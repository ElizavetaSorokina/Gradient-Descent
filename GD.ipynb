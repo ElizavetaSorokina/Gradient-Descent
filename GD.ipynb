{
 "cells": [
  {
   "cell_type": "code",
   "execution_count": 1,
   "metadata": {},
   "outputs": [],
   "source": [
    "import csv\n",
    "import numpy as np\n",
    "import matplotlib.pyplot as plt\n",
    "from numpy import random"
   ]
  },
  {
   "cell_type": "code",
   "execution_count": 2,
   "metadata": {},
   "outputs": [],
   "source": [
    "def OptimalW(X,w,y,l,n,ymse):\n",
    "    max_steps = 0\n",
    "    k=1\n",
    "    alpha = 1/k\n",
    "    i = 0\n",
    "    delta = 0.0000001\n",
    "    gradient = grad(X,w,y,l)\n",
    "    while (alpha*np.linalg.norm(gradient) >= delta) \\\n",
    "    and (max_steps < 5000):\n",
    "        gradient = grad(X,w,y,l)\n",
    "        w = w - alpha*gradient\n",
    "        ymse[i] = MSPE(X,w,y,l)\n",
    "        i+=1\n",
    "        k+=1\n",
    "        alpha = 1/k\n",
    "        max_steps+=1\n",
    "    return w\n",
    "\n",
    "def grad(X,w,y,l):\n",
    "    s = 0\n",
    "    gradient = np.random.uniform(-10, 10, (len(w), 1))\n",
    "    for j in range(len(w)):\n",
    "        i = random.randint(0,l)\n",
    "        s = s + (X[i][j]/y[i]) * ((y[i] - np.matmul(X[i],w))/y[i])\n",
    "        gradient[j] = s*(-2 / l)\n",
    "        s = 0\n",
    "    return gradient\n",
    "\n",
    "\n",
    "\n",
    "def MSPE(X,w,y,l):\n",
    "    s = 0\n",
    "    for i in range(l):\n",
    "        s+=((y[i] - np.matmul(X[i],w))/y[i])**2\n",
    "    return s*2/l"
   ]
  },
  {
   "cell_type": "code",
   "execution_count": 3,
   "metadata": {},
   "outputs": [
    {
     "name": "stdout",
     "output_type": "stream",
     "text": [
      "Optimal weight:\n",
      "[[0.01083166]\n",
      " [0.00991334]\n",
      " [0.0048648 ]\n",
      " [0.00519126]\n",
      " [0.00141132]]\n",
      "MSPE= [1.98759158]\n"
     ]
    },
    {
     "data": {
      "text/plain": [
       "[<matplotlib.lines.Line2D at 0xd3aac58>]"
      ]
     },
     "execution_count": 3,
     "metadata": {},
     "output_type": "execute_result"
    },
    {
     "data": {
      "image/png": "[encoded data removed]",
      "text/plain": [
       "<Figure size 432x288 with 1 Axes>"
      ]
     },
     "metadata": {
      "needs_background": "light"
     },
     "output_type": "display_data"
    }
   ],
   "source": [
    "details =[]\n",
    "with open('Details.csv', 'r') as csv_file: \n",
    "    csv_file = csv.reader(csv_file, delimiter=';') \n",
    "    for row in csv_file: \n",
    "        details.append(row)\n",
    "details = np.array(details)[1:]\n",
    "details = np.array(details, dtype='float')\n",
    "detailsSearchX = details[:210,:4]\n",
    "detailsSearchy =details[:210, 4]\n",
    "obj = 210\n",
    "ftr = 4\n",
    "\n",
    "X1 = np.ones((obj,1))\n",
    "detailsSearchX = np.hstack((detailsSearchX,X1))\n",
    "\n",
    "ymse = np.zeros((5000,1))\n",
    "\n",
    "w = np.zeros((ftr + 1, 1))\n",
    "w0 = OptimalW(detailsSearchX,w,detailsSearchy,obj,ftr,ymse)\n",
    "print(\"Optimal weight:\")\n",
    "print(w0)\n",
    "sum = MSPE(detailsSearchX,w0,detailsSearchy,obj)\n",
    "print(\"MSPE=\" , sum)\n",
    "x = np.arange(5000)\n",
    "plt.plot(x, ymse)"
   ]
  },
  {
   "cell_type": "code",
   "execution_count": 14,
   "metadata": {},
   "outputs": [
    {
     "name": "stdout",
     "output_type": "stream",
     "text": [
      "[0.06352642]\n"
     ]
    }
   ],
   "source": [
    "detailsCheckX = details[210:,:4]\n",
    "detailsChecky =details[210:, 4]\n",
    "X11 = np.ones((90,1))\n",
    "detailsCheckX = np.hstack((detailsCheckX,X11))\n",
    "sc = 0\n",
    "for i in range(90):\n",
    "    sc+=((detailsChecky[i] - np.matmul(detailsCheckX[i],w0))/detailsChecky[i])**2\n",
    "print(sc*2/90)"
   ]
  },
  {
   "cell_type": "code",
   "execution_count": 15,
   "metadata": {},
   "outputs": [
    {
     "data": {
      "text/plain": [
       "array([[ -9.12607764, -16.9788907 , -26.55620468, ..., -16.87181266,\n",
       "        -37.06146784, -22.75293789],\n",
       "       [ -1.44752734,  -9.30034041, -18.87765438, ...,  -9.19326237,\n",
       "        -29.38291754, -15.0743876 ],\n",
       "       [  5.27155926,  -2.5812538 , -12.15856778, ...,  -2.47417576,\n",
       "        -22.66383094,  -8.35530099],\n",
       "       ...,\n",
       "       [ -2.05034134,  -9.90315441, -19.48046838, ...,  -9.79607637,\n",
       "        -29.98573154, -15.67720159],\n",
       "       [ 14.98773833,   7.13492526,  -2.44238871, ...,   7.2420033 ,\n",
       "        -12.94765187,   1.36087808],\n",
       "       [  3.20330548,  -4.64950759, -14.22682156, ...,  -4.54242955,\n",
       "        -24.73208472, -10.42355478]])"
      ]
     },
     "execution_count": 15,
     "metadata": {},
     "output_type": "execute_result"
    }
   ],
   "source": [
    "detailsCheckX.dot(w0) - detailsChecky"
   ]
  }
 ],
 "metadata": {
  "kernelspec": {
   "display_name": "Python 3",
   "language": "python",
   "name": "python3"
  },
  "language_info": {
   "codemirror_mode": {
    "name": "ipython",
    "version": 3
   },
   "file_extension": ".py",
   "mimetype": "text/x-python",
   "name": "python",
   "nbconvert_exporter": "python",
   "pygments_lexer": "ipython3",
   "version": "3.8.5"
  }
 },
 "nbformat": 4,
 "nbformat_minor": 4
}
